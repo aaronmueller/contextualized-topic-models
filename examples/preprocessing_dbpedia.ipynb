{
 "cells": [
  {
   "cell_type": "code",
   "execution_count": 4,
   "metadata": {
    "pycharm": {
     "is_executing": false
    }
   },
   "outputs": [],
   "source": [
    "from sklearn.feature_extraction.text import CountVectorizer\n",
    "import string\n",
    "import nltk\n",
    "from nltk.corpus import stopwords\n",
    "stopwords_en = set(stopwords.words('english'))\n",
    "import pickle\n",
    "import re"
   ]
  },
  {
   "cell_type": "code",
   "execution_count": 5,
   "metadata": {
    "pycharm": {
     "is_executing": false
    }
   },
   "outputs": [],
   "source": [
    "dataset_folder = 'dbpedia_100k_test'\n",
    "texts = []\n",
    "entities = []\n",
    "with open('../contextualized_topic_models/data/' + dataset_folder + '/new_training_sets', 'rb') as fr:\n",
    "    data = pickle.load(fr)"
   ]
  },
  {
   "cell_type": "code",
   "execution_count": 6,
   "outputs": [],
   "source": [
    "for k,v in data.items():\n",
    "    entities.append(k)\n",
    "    texts.append(v)\n",
    "        "
   ],
   "metadata": {
    "collapsed": false,
    "pycharm": {
     "name": "#%%\n",
     "is_executing": false
    }
   }
  },
  {
   "cell_type": "code",
   "execution_count": 19,
   "metadata": {
    "pycharm": {
     "is_executing": false
    }
   },
   "outputs": [],
   "source": [
    "def preprocessing(corpus, entities, stop_words):\n",
    "    corpus = [doc.replace(\"\\\\n*\", \" \") for doc in corpus]\n",
    "    corpus = [doc.replace(\"\\\\\", \" \") for doc in corpus]\n",
    "\n",
    "    corpus = [' '.join(doc.split(\" \")[:400]) for doc in corpus]\n",
    "    unprepr_corpus = corpus\n",
    "    \n",
    "    corpus = [doc.lower() for doc in corpus]\n",
    "    corpus = [doc.translate(str.maketrans(string.punctuation, ' '*len(string.punctuation))) for doc in corpus]\n",
    "    #corpus = [doc.translate(str.maketrans(string.digits, ' '*len(string.digits))) for doc in corpus]\n",
    "    corpus = [' '.join([w for w in doc.split() if len(w)>0 and w not in stop_words]) for doc in corpus]\n",
    "    vectorizer = CountVectorizer(max_features=2000, token_pattern=r'\\b[a-zA-Z]{2,}\\b')\n",
    "    X = vectorizer.fit_transform(corpus)\n",
    "    vocab = set(vectorizer.get_feature_names())\n",
    "    corpus = [' '.join([w for w in doc.split() if w in vocab]) for doc in corpus]\n",
    "    \n",
    "    new_corpus, new_unprep_corpus, new_entities = [], [], []\n",
    "    for i, doc in enumerate(corpus):\n",
    "        if len(doc)>0:\n",
    "            new_corpus.append(doc)\n",
    "            new_unprep_corpus.append(unprepr_corpus[i])\n",
    "            new_entities.append(entities[i])\n",
    "    \n",
    "    return new_corpus, new_unprep_corpus, new_entities, vocab"
   ]
  },
  {
   "cell_type": "code",
   "execution_count": 20,
   "outputs": [],
   "source": [
    "preprocessed_corpus, unpreprocessed_corpus, new_entities, vocab = preprocessing(texts, entities, stopwords_en)"
   ],
   "metadata": {
    "collapsed": false,
    "pycharm": {
     "name": "#%%\n",
     "is_executing": false
    }
   }
  },
  {
   "cell_type": "code",
   "execution_count": 21,
   "metadata": {
    "pycharm": {
     "is_executing": false
    }
   },
   "outputs": [
    {
     "data": {
      "text/plain": "['persian also also known village rural district central district county province iran census population families',\n 'college also known faculty university new new canada college program bachelor philosophy leadership leadership program canada college also philosophy bachelor studies programs',\n 'indian tamil language film directed written produced entertainment film stars lead roles roles film score composed began production july',\n 'associated number concept commonly applied also used possible may first number states usually unique certain assigned energy side chain commonly used base may used used statistical possible',\n 'secretary drama film directed produced productions film based novel name film stars lead roles music composed',\n 'science fiction novel young adult literature author takes place united states civil war near future civil war known second civil war war fought reached parents order children',\n 'family found western habitat consists high mountains adults recorded wing april larvae feed species',\n 'singer songwriter guitarist recorded four solo albums two self released go home self released tree rose records white records three songs white album inspired books english author arthur recording first three albums ireland producer serve producer white band name writer hit single',\n 'japan united states europe first first official',\n 'john german september february duke son john ii wife elizabeth father died area around island thus became first duke went rome study like father maria daughter duke louis however died could take place remained john died brother title land',\n 'name given number different industry recent years various studies investment banks well academic shown may capacity meaning longer produce claimed associated direct investment game simply',\n 'brand name used company line sound equipment hand introduced brand beginning brand expanded include musical',\n 'also known tree small tree endemic western australia single plant typically grows height metres ft high metres ft leaves length cm produces white end branch may october shaped produced mm long produce years age found region western australia northern territory habitat grows plant years well environment adult plants fire',\n 'population regional municipality york southern ontario canada specifically located along northern border toronto part city city municipal village community according census population population south south west hill',\n 'human gene protein name commonly known gene member associated variety activities protein family members protein family share domain roles including protein may involved assembly function nuclear protein two identified gene alternative described full length associated gene cause form',\n 'persian also also known village rural district district county province iran census population families',\n 'news agency portuguese de de portugal portuguese news agency largest portuguese news agency incorporated november name de de agency public interest limited simply following earlier portuguese news agency portuguese agency member de european agency',\n 'village administrative district gmina within county greater poland voivodeship west central poland lies approximately kilometres mi north east km mi north east regional capital',\n 'center classic held october october club event event held round format final defeated smith end',\n 'way common portugal consisting previously although used portuguese considered usually named owned famous city national contest main course making many country day']"
     },
     "metadata": {},
     "output_type": "execute_result",
     "execution_count": 21
    }
   ],
   "source": [
    "texts[10:30]\n",
    "preprocessed_corpus[10:30]"
   ]
  },
  {
   "cell_type": "code",
   "execution_count": 22,
   "metadata": {
    "pycharm": {
     "is_executing": false
    }
   },
   "outputs": [
    {
     "data": {
      "text/plain": "149699"
     },
     "metadata": {},
     "output_type": "execute_result",
     "execution_count": 22
    }
   ],
   "source": [
    "len(unpreprocessed_corpus)"
   ]
  },
  {
   "cell_type": "code",
   "execution_count": 23,
   "metadata": {
    "pycharm": {
     "is_executing": false
    }
   },
   "outputs": [],
   "source": [
    "filtered_unpreprocessed_corpus, filtered_preprocessed_corpus = [], []\n",
    "for i, doc in enumerate(unpreprocessed_corpus):\n",
    "    #if len(doc)>50:\n",
    "    filtered_unpreprocessed_corpus.append(doc)\n",
    "    filtered_preprocessed_corpus.append(preprocessed_corpus[i])"
   ]
  },
  {
   "cell_type": "code",
   "execution_count": 24,
   "metadata": {
    "pycharm": {
     "is_executing": false
    }
   },
   "outputs": [],
   "source": [
    "test_num = 0\n",
    "output_path = '../contextualized_topic_models/data/' + dataset_folder + \"//\"\n",
    "\n",
    "with open(output_path +\"dbpedia_train_unprep.txt\", \"w\", encoding=\"utf8\") as fw:\n",
    "    for l in filtered_unpreprocessed_corpus[test_num:]:\n",
    "        fw.write(l.strip() + \"\\n\")\n",
    "        \n",
    "with open(output_path +\"dbpedia_train_prep.txt\", \"w\", encoding=\"utf8\") as fw:\n",
    "    for l in filtered_preprocessed_corpus[test_num:]:\n",
    "        fw.write(l.strip() + \"\\n\")\n",
    "        \n",
    "with open(output_path +\"dbpedia_test_unprep.txt\", \"w\", encoding=\"utf8\") as fw:\n",
    "    for l in filtered_unpreprocessed_corpus[:test_num]:\n",
    "        fw.write(l.strip() + \"\\n\")\n",
    "        \n",
    "with open(output_path +\"dbpedia_test_prep.txt\", \"w\", encoding=\"utf8\") as fw:\n",
    "    for l in filtered_preprocessed_corpus[:test_num]:\n",
    "        fw.write(l.strip() + \"\\n\")\n",
    "        \n",
    "with open(output_path +\"dbpedia_test_entities.txt\", \"w\", encoding=\"utf8\") as fw:\n",
    "    for l in new_entities[:test_num]:\n",
    "        fw.write(l.strip() + \"\\n\")\n",
    "with open(output_path +\"dbpedia_train_entities.txt\", \"w\", encoding=\"utf8\") as fw:\n",
    "    for l in new_entities[test_num:]:\n",
    "        fw.write(l.strip() + \"\\n\")"
   ]
  },
  {
   "cell_type": "code",
   "execution_count": 35,
   "metadata": {
    "pycharm": {
     "name": "#%%\n",
     "is_executing": false
    }
   },
   "outputs": [],
   "source": [
    "dataset = 'dbpedia_100k_test'\n",
    "with open('../contextualized_topic_models/data/' + dataset + '/new_test_sets', 'rb') as fr:\n",
    "    data = pickle.load(fr)\n",
    "entities = [k for k in data.keys()]\n",
    "test_docs = [data[k] for k in data.keys()]\n",
    "\n",
    " "
   ]
  },
  {
   "cell_type": "code",
   "execution_count": 38,
   "outputs": [],
   "source": [
    "f = 200\n",
    "\n",
    "test_docs = [[\" \".join(d.split(\" \")[:f]) for d in doc] for doc in test_docs]\n",
    "with open('../contextualized_topic_models/data/' + dataset + '/test_set_' + str(f), 'wb') as fw:\n",
    "    pickle.dump(test_docs , fw)"
   ],
   "metadata": {
    "collapsed": false,
    "pycharm": {
     "name": "#%%\n",
     "is_executing": false
    }
   }
  },
  {
   "cell_type": "code",
   "execution_count": null,
   "outputs": [],
   "source": [
    "\n"
   ],
   "metadata": {
    "collapsed": false,
    "pycharm": {
     "name": "#%%\n"
    }
   }
  }
 ],
 "metadata": {
  "kernelspec": {
   "display_name": "Python 3",
   "language": "python",
   "name": "python3"
  },
  "language_info": {
   "codemirror_mode": {
    "name": "ipython",
    "version": 3
   },
   "file_extension": ".py",
   "mimetype": "text/x-python",
   "name": "python",
   "nbconvert_exporter": "python",
   "pygments_lexer": "ipython3",
   "version": "3.6.10"
  },
  "pycharm": {
   "stem_cell": {
    "cell_type": "raw",
    "source": [],
    "metadata": {
     "collapsed": false
    }
   }
  }
 },
 "nbformat": 4,
 "nbformat_minor": 4
}
